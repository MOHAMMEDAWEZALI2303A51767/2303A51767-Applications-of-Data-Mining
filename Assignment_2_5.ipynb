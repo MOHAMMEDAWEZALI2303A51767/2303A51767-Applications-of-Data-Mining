{
  "nbformat": 4,
  "nbformat_minor": 0,
  "metadata": {
    "colab": {
      "provenance": [],
      "authorship_tag": "ABX9TyOTE/6VpVpaE3yNOsnGy8eP",
      "include_colab_link": true
    },
    "kernelspec": {
      "name": "python3",
      "display_name": "Python 3"
    },
    "language_info": {
      "name": "python"
    }
  },
  "cells": [
    {
      "cell_type": "markdown",
      "metadata": {
        "id": "view-in-github",
        "colab_type": "text"
      },
      "source": [
        "<a href=\"https://colab.research.google.com/github/MOHAMMEDAWEZALI2303A51767/2303A51767-Applications-of-Data-Mining/blob/main/Assignment_2_5.ipynb\" target=\"_parent\"><img src=\"https://colab.research.google.com/assets/colab-badge.svg\" alt=\"Open In Colab\"/></a>"
      ]
    },
    {
      "cell_type": "code",
      "execution_count": 1,
      "metadata": {
        "colab": {
          "base_uri": "https://localhost:8080/"
        },
        "id": "lTfHJgAD8XQQ",
        "outputId": "74c910ca-84e8-44d1-fbec-c7c98ed2a201"
      },
      "outputs": [
        {
          "output_type": "stream",
          "name": "stdout",
          "text": [
            "0      0.653846\n",
            "1      0.846154\n",
            "2      0.692308\n",
            "3           NaN\n",
            "4      0.769231\n",
            "         ...   \n",
            "302    0.653846\n",
            "303    1.000000\n",
            "304    0.961538\n",
            "305    0.576923\n",
            "306    1.000000\n",
            "Name: sciences.grade, Length: 307, dtype: float64\n"
          ]
        }
      ],
      "source": [
        "import pandas as pd\n",
        "df=pd.read_csv(\"/content/student-dataset.csv\")\n",
        "df[\"sciences.grade\"].fillna(df[\"sciences.grade\"].median())\n",
        "min=df[\"sciences.grade\"].min();\n",
        "max=df[\"sciences.grade\"].max();\n",
        "df[\"sciences.grade\"]=(df[\"sciences.grade\"]-min)/(max-min);\n",
        "print(df[\"sciences.grade\"])\n"
      ]
    }
  ]
}